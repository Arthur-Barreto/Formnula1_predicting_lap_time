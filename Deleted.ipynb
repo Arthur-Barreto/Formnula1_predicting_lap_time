{
 "cells": [
  {
   "cell_type": "markdown",
   "metadata": {},
   "source": [
    "#### Plot de Gráficos Relativos à Target\n",
    "Nesta Seção será realizado o Plot de gráficos da <b>Target</b> em relaçnao as <b>Features</b>:\n",
    "* `Holiday_Flag`\n",
    "* `Temperature`\n",
    "* `Fuel_Price`\n",
    "* `CPI`\n",
    "* `Unemployment`\n",
    "\n",
    "E da Variavel principal <b>Target</b>:\n",
    "* `Weekly_Sales`\n",
    "\n",
    "O objeto desta analise é observar a progressão e variação das Features presentes no DataFrame a fim de gerar correlações comportamentais destas em relação a variavel principal. "
   ]
  },
  {
   "cell_type": "code",
   "execution_count": null,
   "metadata": {},
   "outputs": [],
   "source": [
    "\n",
    "# vamos filtrar o dataframe, em um vetor X deixaremos as variaveis que supostamente afetam a variavel target\n",
    "X_list = [\"Temperature\",\"Fuel_Price\",\"CPI\",\"Unemployment\"]\n",
    "# em Y precisamos colocar a variavel target e store, para darmos um loc por loja\n",
    "Y = df[[\"Weekly_Sales\",'Store']]\n",
    "\n",
    "# organizando o subplot\n",
    "l_subplots = [411,412,413,414]\n",
    "plt.figure(figsize = (20,60))\n",
    "\n",
    "index = 0\n",
    "for variavel in X_list:\n",
    "    plt.subplot(l_subplots[index])\n",
    "    for loja in range(1,46):\n",
    "        # variavel aux para filtrar por loja\n",
    "        aux = df.loc[df['Store'] == loja]\n",
    "        # filtrar a variavel x por loja e ordenar os valores para o plot\n",
    "        XLinha = aux[variavel].sort_values()\n",
    "        # filtrar a variavel target por loja\n",
    "        YLinha = Y.loc[Y['Store'] == loja]\n",
    "        # dando o plot\n",
    "        plt.plot(XLinha,YLinha)\n",
    "        plt.title(f\"Gráfico {variavel} X Tempo\")\n",
    "        plt.ylabel(\"Weekly Sales\")\n",
    "        plt.xlabel(variavel)\n",
    "    # mudando de variavel a ser analizada\n",
    "    index += 1\n",
    "plt.show()"
   ]
  },
  {
   "cell_type": "markdown",
   "metadata": {},
   "source": [
    "### Iteração Analise Exploratoria\n",
    "\n",
    "Nesta Iteração serão realizadas mudanças na base de dados, que agora passará a representar as vendas totais da rede Walmart, realizando a soma de todas suas lojas (semanalmente) e mantendo as metricas medianas de outras Features - como Unemployment, CPI e Temperatura que não podem ser apenas somadas, uma vez que ultrapassariam o teto máximo de porcentagem (no caso de Unemployment), ou seriam distorcidas (no caso de CPI e Temperature)."
   ]
  },
  {
   "cell_type": "code",
   "execution_count": null,
   "metadata": {},
   "outputs": [],
   "source": [
    "# precisamos agrupar as variaveis por duas maneiras\n",
    "# com exceção de weekly sale, o restante é tudo por média e ela será por soma\n",
    "# vamos criar dois dataframes, com cada categoria separada, dar um groupby por soma e media e depois dar o merge deles\n",
    "\n",
    "# dataframe para unir por media\n",
    "dfc = df.drop(['Store','Weekly_Sales','Holiday_Flag'],axis = 1)\n",
    "dfc.groupby('Date').mean()\n",
    "# dataframe para unir por soma\n",
    "dfc2 = df[['Date','Weekly_Sales']]\n",
    "dfc2.groupby('Date').sum()\n",
    "# ja unimos por data o segundo dateframe, vamos retirar a coluna de data antes do merge para não ficar duplicada\n",
    "dfc2.drop('Date', axis = 1)\n",
    "\n",
    "# unindo os dataframes\n",
    "dfc['Weekly_Sales'] = dfc2['Weekly_Sales']\n",
    "dfc\n",
    "\n",
    "# pronto, agr temos os dados agrupados por data, sendo as vendas semanais somadas e o restante dos dados\n",
    "# tomados em média"
   ]
  },
  {
   "cell_type": "code",
   "execution_count": null,
   "metadata": {},
   "outputs": [],
   "source": [
    "dfc.describe()"
   ]
  },
  {
   "cell_type": "code",
   "execution_count": null,
   "metadata": {},
   "outputs": [],
   "source": [
    "dfc.isnull().sum()"
   ]
  },
  {
   "cell_type": "code",
   "execution_count": null,
   "metadata": {},
   "outputs": [],
   "source": [
    "#### Iteração Gráfico Temporal\n",
    "Nesta Seção será realizado a iteração do Plot de gráficos com relação ao tempo das <b>Features</b>:\n",
    "* `Temperature`\n",
    "* `Fuel_Price`\n",
    "* `CPI`\n",
    "* `Unemployment`\n",
    "\n",
    "E da Variavel principal <b>Target</b>:\n",
    "* `Weekly_Sales`\n",
    "\n",
    "O objeto desta analise inicial é observar a progressão e variação das Features presentes no DataFrame a fim de gerar hipoteses sobre o comportamento destas variaveis"
   ]
  },
  {
   "cell_type": "code",
   "execution_count": null,
   "metadata": {},
   "outputs": [],
   "source": [
    "dfc.Date = pd.to_datetime(df.Date)\n",
    "dfc_ordenado = dfc.sort_values(by='Date')\n",
    "l_variaveis = [\"Weekly_Sales\",\"Temperature\",\"Fuel_Price\",\"CPI\",\"Unemployment\"]\n",
    "l_subplots = [511,512,513,514,515]\n",
    "plt.figure(figsize = (20,30))\n",
    "\n",
    "index = 0\n",
    "for variavel in l_variaveis:\n",
    "    plt.subplot(l_subplots[index])\n",
    "    plt.plot(dfc_ordenado.Date, dfc[variavel])\n",
    "    plt.title(f\"Gráfico {variavel} X Tempo\")\n",
    "    plt.ylabel(variavel)\n",
    "    plt.xlabel(\"Tempo (Dias)\")\n",
    "    index += 1\n",
    "plt.show()"
   ]
  },
  {
   "cell_type": "code",
   "execution_count": null,
   "metadata": {},
   "outputs": [],
   "source": [
    "#### Analise do Gráfico Temporal\n",
    "\n",
    "Como já era esperado, não é póssivel realizar inferencias atraves de apenas gráficos temporais, uma vez que diversos destes dados são ciclicos como Unemployment e CPI, outros, como no caso da serie temporal é continua, sendo assim não há a possibilidade de se calcular indicadores como os de correlação entre os dados. Sendo assim não poderemos utilizar somentes estes gráficos para chegar em respostas conclusivas.\n",
    "\n",
    "Considerando o que foi colocado acima, para aprofundar a analise, há a necessidade de se plotar gráficos e cálcular indicadores que possam correlacionar o crescimento/decressimo de uma Feature com o crescimento/decressimo do Target."
   ]
  },
  {
   "cell_type": "code",
   "execution_count": null,
   "metadata": {},
   "outputs": [],
   "source": [
    "#### Gráfico de Correlação\n",
    "\n",
    "Nesta Seção será realizado a iteração de um Plot que possibilita a correlação de todas as <b>Features</b> e <b>Target</b> do Projeto:\n",
    "* `Temperature`\n",
    "* `Fuel_Price`\n",
    "* `CPI`\n",
    "* `Unemployment`\n",
    "\n",
    "E da Variavel principal <b>Target</b>:\n",
    "* `Weekly_Sales`\n",
    "\n",
    "O objeto desta analise inicial é observar a progressão e variação das Features presentes no DataFrame a fim de gerar hipoteses sobre o comportamento destas variaveis"
   ]
  },
  {
   "cell_type": "code",
   "execution_count": null,
   "metadata": {},
   "outputs": [],
   "source": [
    "#### Analise de Resultados\n",
    "\n",
    "##### Resultados\n",
    "\n",
    "Após o Plot de gráficos Temporais e Relativos ao Target foi percebido que para ser realizado o projeto respondendo com satisfação a problematica proposta no inicio deste arquivo, entender como o meio interno e externo impactam diretamente na quantidade de itens vendidos no WalMart nos Estados Unidos, há a necessidade de agrupar os dados via datas, para assim possibilitar uma visão geral de vendas, possibilitando a analise de itens vendidos pelo Walmart - ao invés de itens vendidos por lojas independentes da rede Walmart.\n",
    "\n",
    "##### Escopo\n",
    "\n",
    "Considerando o que foi posto na aba acima, ainda conseguimos dar grande uso ao primeiro gráfico desta serie, uma vez que ele nos possibilita analisar como eventos, feriados e datas especiais influenciam no crescimento de vendas. Indicando uma hipotese de que as grandes altas ocorridas antes de 2011/01 e 2012/01 tenham ocorrido por feriados.\n",
    "\n",
    "___"
   ]
  }
 ],
 "metadata": {
  "kernelspec": {
   "display_name": "Python 3",
   "language": "python",
   "name": "python3"
  },
  "language_info": {
   "codemirror_mode": {
    "name": "ipython",
    "version": 3
   },
   "file_extension": ".py",
   "mimetype": "text/x-python",
   "name": "python",
   "nbconvert_exporter": "python",
   "pygments_lexer": "ipython3",
   "version": "3.8.5"
  }
 },
 "nbformat": 4,
 "nbformat_minor": 4
}
